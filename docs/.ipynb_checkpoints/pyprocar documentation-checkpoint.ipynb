{
 "cells": [
  {
   "cell_type": "markdown",
   "metadata": {},
   "source": [
    "# PyProcar Documentation"
   ]
  },
  {
   "attachments": {},
   "cell_type": "markdown",
   "metadata": {},
   "source": [
    "## A python package for vasp and abinit post-processing.\n",
    "\n",
    "PyProcar provides a set of scripts that manage the PROCAR file obtained from Vasp and Abinit. Basically, the PROCAR\n",
    "file is a projection of the Kohn-Sham states over atomic orbitals. That projection is performed to every K\n",
    "point in the considered mesh, every energy band and every atom. Here you will find scripts that help\n",
    "you in digging the information from it and plot it in a nice and friendly process."
   ]
  },
  {
   "cell_type": "markdown",
   "metadata": {},
   "source": [
    "Contributors:\n",
    " - Francisco Munoz\n",
    " - Aldo Romero\n",
    " - Sobhit Singh\n",
    " - Uthpala Herath\n",
    " - Pedram Tavadze\n",
    " - Eric Bousquet\n",
    " - Xu He"
   ]
  },
  {
   "cell_type": "markdown",
   "metadata": {},
   "source": [
    "## About the PROCAR file\n",
    "\n",
    "These set of scripts deal as an interface between the calculated PROCAR as obtained from VASP, which are the onsite projections over different characters of the wave function\n",
    "\n",
    "The format is assumed as follows:\n",
    "\n",
    "1.   PROCAR lm decomposed <br />\n",
    "2.    of k-points:    4         # of bands: 224         # of ions:  4 <br />\n",
    "3.   <br />\n",
    "4.    k-point    1 :    0.12500000 0.12500000 0.12500000     weight = 0.12500000 <br />\n",
    "5.   <br />\n",
    "6.   band   1 # energy  -52.65660295 # occ.  1.00000000 <br />\n",
    "7.   <br />\n",
    "8.   ion      s     py     pz     px    dxy    dyz    dz2    dxz    dx2    tot <br />\n",
    "9.     1  0.000  0.000  0.000  0.000  0.000  0.000  0.000  0.000  0.000  0.000 <br />\n",
    "10.    2  0.000  0.000  0.000  0.000  0.000  0.000  0.000  0.000  0.000  0.000 <br />\n",
    "11.    3  0.000  0.000  0.000  0.000  0.000  0.000  0.000  0.000  0.000  0.000 <br />\n",
    "12.    4  0.000  0.000  0.000  0.000  0.000  0.000  0.000  0.000  0.000  0.000 <br />\n",
    "13.    4  0.000  0.000  0.000  0.000  0.000  0.000  0.000  0.000  0.000  0.000 <br />\n",
    "14.   tot 0.000  0.000  0.000  0.000  0.000  0.000  0.000  0.000  0.000  0.000 <br />\n",
    "\n",
    "\n",
    "Line 1 is a comment <br />\n",
    "Line 2 gives the number of K points calculated (kpoint), number of bands (nband) and number of ions (nion) <br />\n",
    "Line 5 gives the energy for kpoints <br />\n",
    "Line 8 Labels of calculated projections, column 11 is the total projection <br />\n",
    "Line 9 Calculated projections for atom 1 <br />\n",
    "Line 10 Calculated projections for atom 2 and so on <br />\n",
    "Line 14 after projections over all atoms, the total over every atomic projection is reported <br />\n",
    "\n",
    "This block is repeated if calculations was polarized \n",
    "If no polarized but non collinear, you have 3 more blocks that correspond to Sx, Sy and Sz\n",
    "\n",
    "\n",
    "\n"
   ]
  },
  {
   "attachments": {},
   "cell_type": "markdown",
   "metadata": {},
   "source": [
    "This code reads the PROCAR file obtained from VASP or Abinit calculations and does the post processing.  \n",
    "The following plots can be obtained. <br /> \n",
    "\n",
    "(i).\tthe electronic bandstructure along a defined k-path <br />\n",
    "(ii).\tthe spin-texture calculated at a constant energy surface in a 2D k-mesh <br />\n",
    "(iii).\tOrbital/Atom/Spin projected bandstructure <br />\n",
    "(iv).\tFermi-surface, (Pedram,Uthpala: TBD) <br />\n",
    "(v).\tOptical transition matrix elements in the full Brillouin zone (TBD) <br />\n",
    "\n",
    "OUTCAR file or an equivalent Abinit output file  is required to extract the Fermi-energy and reciprocal lattice vectors. "
   ]
  },
  {
   "cell_type": "markdown",
   "metadata": {},
   "source": [
    "To start, we import pyprocar."
   ]
  },
  {
   "cell_type": "code",
   "execution_count": 4,
   "metadata": {},
   "outputs": [],
   "source": [
    "import pyprocar"
   ]
  },
  {
   "attachments": {},
   "cell_type": "markdown",
   "metadata": {},
   "source": [
    "## 01. Repairing PROCAR\n",
    "\n",
    "We need to first repair the PROCAR file before it can be parsed by the PyProcar code. The reason for this is the improper writing (without space) of some k-points in the VASP-generated PROCAR file. <br />\n",
    "For example: 0.33333-0.3333-0.00000"
   ]
  },
  {
   "cell_type": "code",
   "execution_count": null,
   "metadata": {},
   "outputs": [],
   "source": [
    "pyprocar.repair('PROCAR','PROCAR_repaired')"
   ]
  },
  {
   "cell_type": "markdown",
   "metadata": {},
   "source": []
  }
 ],
 "metadata": {
  "kernelspec": {
   "display_name": "Python 2",
   "language": "python",
   "name": "python2"
  },
  "language_info": {
   "codemirror_mode": {
    "name": "ipython",
    "version": 2
   },
   "file_extension": ".py",
   "mimetype": "text/x-python",
   "name": "python",
   "nbconvert_exporter": "python",
   "pygments_lexer": "ipython2",
   "version": "2.7.10"
  }
 },
 "nbformat": 4,
 "nbformat_minor": 2
}
