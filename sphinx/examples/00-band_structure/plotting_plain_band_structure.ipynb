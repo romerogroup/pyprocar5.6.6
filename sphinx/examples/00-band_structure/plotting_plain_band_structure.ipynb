{
  "cells": [
    {
      "cell_type": "code",
      "execution_count": null,
      "metadata": {
        "collapsed": false
      },
      "outputs": [],
      "source": [
        "%matplotlib inline"
      ]
    },
    {
      "cell_type": "markdown",
      "metadata": {},
      "source": [
        "\n\n# Plotting plain band structure\n\nPlotting plain band structure .\n"
      ]
    },
    {
      "cell_type": "code",
      "execution_count": null,
      "metadata": {
        "collapsed": false
      },
      "outputs": [],
      "source": [
        "import os\nimport pyprocar\n\n\ndata_dir = f'C:{os.sep}Users{os.sep}lllang{os.sep}Desktop{os.sep}Romero Group Research{os.sep}Research Projects{os.sep}pyprocar2{os.sep}data{os.sep}qe{os.sep}bands{os.sep}colinear{os.sep}Fe'\n\n\npyprocar.bandsplot(\n                code='qe', \n                mode='plain',\n                dirname=data_dir)"
      ]
    }
  ],
  "metadata": {
    "kernelspec": {
      "display_name": "Python 3",
      "language": "python",
      "name": "python3"
    },
    "language_info": {
      "codemirror_mode": {
        "name": "ipython",
        "version": 3
      },
      "file_extension": ".py",
      "mimetype": "text/x-python",
      "name": "python",
      "nbconvert_exporter": "python",
      "pygments_lexer": "ipython3",
      "version": "3.8.0"
    }
  },
  "nbformat": 4,
  "nbformat_minor": 0
}